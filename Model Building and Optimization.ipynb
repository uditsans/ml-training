{
  "cells": [
    {
      "cell_type": "markdown",
      "source": [
        "# Discriminating Sonar Signal\n",
        "- The task is to train a classifier to discriminate between sonar signal bouncing off a metal cylinder from those bouncing off a roughly cylindrical rock.\n",
        "- Have to only use Decision Tree, Random Forest and Support Vector Classifier.\n",
        "- No data cleansing & feature selection is required as the focus is on model building and optimization."
      ],
      "metadata": {
        "id": "bAiig-xd_rPp"
      }
    },
    {
      "cell_type": "markdown",
      "metadata": {
        "id": "wYjrHL1U5-BP"
      },
      "source": [
        "## Importing Libraries"
      ]
    },
    {
      "cell_type": "code",
      "execution_count": null,
      "metadata": {
        "id": "B_Wm8TH95-BW"
      },
      "outputs": [],
      "source": [
        "import numpy as np\n",
        "import pandas as pd\n",
        "import matplotlib.pyplot as plt"
      ]
    },
    {
      "cell_type": "markdown",
      "metadata": {
        "id": "iL2mUZ5I5-Ba"
      },
      "source": [
        "## Importing Dataset"
      ]
    },
    {
      "cell_type": "code",
      "execution_count": null,
      "metadata": {
        "id": "NeJz8H5p5-Bc"
      },
      "outputs": [],
      "source": [
        "dataset = pd.read_table(\"http://archive.ics.uci.edu/ml/machine-learning-databases/undocumented/connectionist-bench/sonar/sonar.all-data\", header = None , delimiter = \",\")"
      ]
    },
    {
      "cell_type": "markdown",
      "metadata": {
        "id": "BkFA1TV-5-Be"
      },
      "source": [
        "## Separating & Pre-processing the independent & dependent variables"
      ]
    },
    {
      "cell_type": "code",
      "execution_count": null,
      "metadata": {
        "id": "pyz84elJ5-Bf"
      },
      "outputs": [],
      "source": [
        "X = dataset.iloc[:,:-1].values\n",
        "y = dataset.iloc[:,-1].values"
      ]
    },
    {
      "cell_type": "code",
      "execution_count": null,
      "metadata": {
        "id": "gcUs5pva5-Bi"
      },
      "outputs": [],
      "source": [
        "from sklearn.preprocessing import LabelEncoder\n",
        "label = LabelEncoder()\n",
        "y = label.fit_transform(y)"
      ]
    },
    {
      "cell_type": "markdown",
      "metadata": {
        "id": "9kKK3-Ue5-Bk"
      },
      "source": [
        "## Splitting the dataset into Train and Test set"
      ]
    },
    {
      "cell_type": "code",
      "execution_count": null,
      "metadata": {
        "id": "3OvSlwNU5-Bm"
      },
      "outputs": [],
      "source": [
        "from sklearn.model_selection import train_test_split\n",
        "X_train, X_test, y_train, y_test = train_test_split(X,y, test_size = 0.2, random_state = 42)"
      ]
    },
    {
      "cell_type": "markdown",
      "metadata": {
        "id": "LgsL5eHh5-Br"
      },
      "source": [
        "## Function for accuracy analysis"
      ]
    },
    {
      "cell_type": "code",
      "execution_count": null,
      "metadata": {
        "id": "9g4p3T6x5-Br"
      },
      "outputs": [],
      "source": [
        "from sklearn.metrics import accuracy_score, confusion_matrix, f1_score\n",
        "from sklearn.model_selection import cross_val_score\n",
        "\n",
        "def performance_metrics(y_test,y_pred,classifier):\n",
        "    print(\"Model accuracy = {:.2f} %\".format(accuracy_score(y_test,y_pred)*100)) \n",
        "    print(\"\\nConfusion Matrix \\n\", confusion_matrix(y_test,y_pred))\n",
        "    print(\"\\nF1 score = {:.2f}\".format(f1_score(y_test,y_pred)))\n",
        "    accuracies = cross_val_score(classifier,X_train,y_train,cv = 5, n_jobs = -1)\n",
        "    print(\"\\nMean accuracy for 5-fold cross validation on train set = {:.2f} %\".format(accuracies.mean()*100))"
      ]
    },
    {
      "cell_type": "markdown",
      "metadata": {
        "id": "SqdXO05I5-Bt"
      },
      "source": [
        "## Function for hyperparameter tuning"
      ]
    },
    {
      "cell_type": "code",
      "execution_count": null,
      "metadata": {
        "id": "ppXwuGyx5-Bu"
      },
      "outputs": [],
      "source": [
        "from sklearn.model_selection import  GridSearchCV\n",
        "def grid_search_function(classifier,parameters):\n",
        "    grid_search = GridSearchCV(estimator = classifier, param_grid = parameters, scoring = 'accuracy', cv = 5, n_jobs = -1)\n",
        "    grid_search.fit(X_train, y_train)\n",
        "    best_accuracy = grid_search.best_score_\n",
        "    best_parameters = grid_search.best_params_\n",
        "    print(\"Best Accuracy: {:.2f} %\".format(best_accuracy*100))\n",
        "    print(\"Best Parameters:\", best_parameters)\n",
        "    return best_parameters"
      ]
    },
    {
      "cell_type": "markdown",
      "metadata": {
        "id": "FEA7B5ar5-Bv"
      },
      "source": [
        "# Classification Models"
      ]
    },
    {
      "cell_type": "markdown",
      "metadata": {
        "id": "j8Z07MA35-Bw"
      },
      "source": [
        "Since the shuffling/splitting of data in these classifiers introduce some randomness in our results, so to ensure consistency of our results whenever this code is run, we specify a 'random_state' seed."
      ]
    },
    {
      "cell_type": "markdown",
      "metadata": {
        "id": "7VYY89FP5-Bx"
      },
      "source": [
        "## Support Vector Classifier"
      ]
    },
    {
      "cell_type": "code",
      "execution_count": null,
      "metadata": {
        "colab": {
          "base_uri": "https://localhost:8080/"
        },
        "id": "nsOShgKO5-B0",
        "outputId": "90c6e26f-ccd3-4f9a-8c47-6207dbfb5a7e"
      },
      "outputs": [
        {
          "output_type": "execute_result",
          "data": {
            "text/plain": [
              "SVC(random_state=42)"
            ]
          },
          "metadata": {},
          "execution_count": 42
        }
      ],
      "source": [
        "from sklearn.svm import SVC\n",
        "svm_classifier = SVC(random_state=42)\n",
        "svm_classifier.fit(X_train,y_train)"
      ]
    },
    {
      "cell_type": "markdown",
      "metadata": {
        "id": "yLLoQGyc5-B3"
      },
      "source": [
        "### Performance of non-parameterized classifier"
      ]
    },
    {
      "cell_type": "code",
      "execution_count": null,
      "metadata": {
        "scrolled": true,
        "id": "wxikRmWj5-B4"
      },
      "outputs": [],
      "source": [
        "y_pred = svm_classifier.predict(X_test)\n",
        "# print(np.concatenate((y_pred.reshape(len(y_pred),1),y_test.reshape(len(y_test),1)),1))"
      ]
    },
    {
      "cell_type": "code",
      "execution_count": null,
      "metadata": {
        "scrolled": false,
        "colab": {
          "base_uri": "https://localhost:8080/"
        },
        "id": "K1DwjURJ5-B4",
        "outputId": "9f6a8357-04a8-4380-c526-e5c8cac265ba"
      },
      "outputs": [
        {
          "output_type": "stream",
          "name": "stdout",
          "text": [
            "Model accuracy = 83.33 %\n",
            "\n",
            "Confusion Matrix \n",
            " [[21  5]\n",
            " [ 2 14]]\n",
            "\n",
            "F1 score = 0.80\n",
            "\n",
            "Mean accuracy for 5-fold cross validation on train set = 74.12 %\n"
          ]
        }
      ],
      "source": [
        "performance_metrics(y_test,y_pred,svm_classifier)"
      ]
    },
    {
      "cell_type": "markdown",
      "metadata": {
        "id": "h0loW95N5-B5"
      },
      "source": [
        "### Hyper-parameters tunning\n",
        "There are a few hyper-parameters that can be tunned for any SVM model. Some of the common ones are, **C** or the regularization parameter, the type of **kernel**, the kernel co-efficient **gamma** _(if 'rbf' or 'poly' kernel),_ and the **degree** of polynomial kernel _(if 'poly' kernel)_."
      ]
    },
    {
      "cell_type": "code",
      "execution_count": null,
      "metadata": {
        "colab": {
          "base_uri": "https://localhost:8080/"
        },
        "id": "klWRk1I65-B5",
        "outputId": "e407066a-2abd-467e-b2ac-0be05238501d"
      },
      "outputs": [
        {
          "output_type": "stream",
          "name": "stdout",
          "text": [
            "Best Accuracy: 85.53 %\n",
            "Best Parameters: {'C': 1, 'degree': 2, 'gamma': 0.7, 'kernel': 'poly'}\n"
          ]
        }
      ],
      "source": [
        "parameters = [{'C': [0.25, 0.5, 0.75, 1], 'kernel': ['linear']},\\\n",
        "              {'C': [0.25, 0.5, 0.75, 1], 'kernel': ['rbf'], 'gamma': [0.1, 0.3, 0.5, 0.7, 0.9]},\\\n",
        "    {'C': [0.25, 0.5, 0.75, 1], 'kernel': ['poly'], 'gamma': [0.1, 0.3, 0.5, 0.7, 0.9], 'degree':[2,3,4,5]}]\n",
        "best_parameter = grid_search_function(svm_classifier,parameters)"
      ]
    },
    {
      "cell_type": "code",
      "execution_count": null,
      "metadata": {
        "colab": {
          "base_uri": "https://localhost:8080/"
        },
        "id": "fNaxi55f5-B6",
        "outputId": "5404d246-e0dd-45e5-affa-10c9d3b3ce4b"
      },
      "outputs": [
        {
          "output_type": "stream",
          "name": "stdout",
          "text": [
            "Model accuracy = 85.71 %\n",
            "\n",
            "Confusion Matrix \n",
            " [[22  4]\n",
            " [ 2 14]]\n",
            "\n",
            "F1 score = 0.82\n",
            "\n",
            "Mean accuracy for 5-fold cross validation on train set = 85.53 %\n"
          ]
        }
      ],
      "source": [
        "svm_best_classifier = SVC(C = best_parameter[\"C\"], kernel = best_parameter[\"kernel\"],\\\n",
        "                          gamma = best_parameter[\"gamma\"], degree = best_parameter[\"degree\"],random_state=42)\n",
        "svm_best_classifier.fit(X_train,y_train)\n",
        "y_pred = svm_best_classifier.predict(X_test)\n",
        "performance_metrics(y_test,y_pred,svm_best_classifier)"
      ]
    },
    {
      "cell_type": "markdown",
      "metadata": {
        "id": "2tuqzfuY5-B7"
      },
      "source": [
        "## Decision Tree Classifier"
      ]
    },
    {
      "cell_type": "code",
      "execution_count": null,
      "metadata": {
        "colab": {
          "base_uri": "https://localhost:8080/"
        },
        "id": "7aWeKxR35-B8",
        "outputId": "b6d80f61-cabf-46f5-e287-1f5c7d896b21"
      },
      "outputs": [
        {
          "output_type": "execute_result",
          "data": {
            "text/plain": [
              "DecisionTreeClassifier(random_state=42)"
            ]
          },
          "metadata": {},
          "execution_count": 47
        }
      ],
      "source": [
        "from sklearn.tree import DecisionTreeClassifier\n",
        "dt_classifier = DecisionTreeClassifier(random_state=42)\n",
        "dt_classifier.fit(X_train,y_train)"
      ]
    },
    {
      "cell_type": "markdown",
      "metadata": {
        "id": "pKX9Lk0I5-B9"
      },
      "source": [
        "### Performance of non-parameterized classifier"
      ]
    },
    {
      "cell_type": "code",
      "execution_count": null,
      "metadata": {
        "scrolled": true,
        "id": "bnz-36rA5-B9"
      },
      "outputs": [],
      "source": [
        "y_pred = dt_classifier.predict(X_test)\n",
        "# print(np.concatenate((y_pred.reshape(len(y_pred),1),y_test.reshape(len(y_test),1)),1))"
      ]
    },
    {
      "cell_type": "code",
      "execution_count": null,
      "metadata": {
        "scrolled": true,
        "colab": {
          "base_uri": "https://localhost:8080/"
        },
        "id": "3-jnlxge5-B-",
        "outputId": "cc0c9b05-4ef9-4ad8-ba50-2a9c533a84f7"
      },
      "outputs": [
        {
          "output_type": "stream",
          "name": "stdout",
          "text": [
            "Model accuracy = 71.43 %\n",
            "\n",
            "Confusion Matrix \n",
            " [[19  7]\n",
            " [ 5 11]]\n",
            "\n",
            "F1 score = 0.65\n",
            "\n",
            "Mean accuracy for 5-fold cross validation on train set = 74.69 %\n"
          ]
        }
      ],
      "source": [
        "performance_metrics(y_test,y_pred,dt_classifier)"
      ]
    },
    {
      "cell_type": "markdown",
      "metadata": {
        "id": "ZG3508qS5-B-"
      },
      "source": [
        "### Hyper-parameters tunning\n",
        "There are a few hyper-parameters that can be tunned for any Decision Tree model. Some of the common ones are, **criterion** based on which the split is done, the **splitter** strategy used to choose the split at each node, the **max_features** that is considered before making the best split, and the **min_samples_split** which dictates if an internal node having certain number of nodes will split."
      ]
    },
    {
      "cell_type": "code",
      "execution_count": null,
      "metadata": {
        "colab": {
          "base_uri": "https://localhost:8080/"
        },
        "id": "B1B_Pjrn5-B_",
        "outputId": "bb7c7d3c-ce51-40e7-ef72-cf47e6c56f6c"
      },
      "outputs": [
        {
          "output_type": "stream",
          "name": "stdout",
          "text": [
            "Best Accuracy: 77.79 %\n",
            "Best Parameters: {'criterion': 'entropy', 'max_features': 0.1, 'min_samples_split': 5, 'splitter': 'random'}\n"
          ]
        }
      ],
      "source": [
        "parameters = [{'criterion':['gini', 'entropy'], 'splitter': ['best','random'],\\\n",
        "               'max_features':['sqrt','log2',0.1,0.2,0.3], 'min_samples_split':[2,3,4,5]}]\n",
        "best_parameter  = grid_search_function(dt_classifier,parameters)"
      ]
    },
    {
      "cell_type": "code",
      "execution_count": null,
      "metadata": {
        "colab": {
          "base_uri": "https://localhost:8080/"
        },
        "id": "p0cz7-OT5-CA",
        "outputId": "6ecb3f8d-cbc2-4cf3-9291-798c9b2e893c"
      },
      "outputs": [
        {
          "output_type": "stream",
          "name": "stdout",
          "text": [
            "Model accuracy = 66.67 %\n",
            "\n",
            "Confusion Matrix \n",
            " [[15 11]\n",
            " [ 3 13]]\n",
            "\n",
            "F1 score = 0.65\n",
            "\n",
            "Mean accuracy for 5-fold cross validation on train set = 77.79 %\n"
          ]
        }
      ],
      "source": [
        "dt_best_classifier = DecisionTreeClassifier(criterion=best_parameter['criterion'],splitter=best_parameter['splitter'],\\\n",
        "        max_features=best_parameter[\"max_features\"], min_samples_split=best_parameter['min_samples_split'],random_state=42)\n",
        "dt_best_classifier.fit(X_train,y_train)\n",
        "y_pred = dt_best_classifier.predict(X_test)\n",
        "performance_metrics(y_test,y_pred,dt_best_classifier)"
      ]
    },
    {
      "cell_type": "markdown",
      "metadata": {
        "id": "xx8Q-tTO5-CB"
      },
      "source": [
        "## Random Forest Classifier"
      ]
    },
    {
      "cell_type": "code",
      "execution_count": null,
      "metadata": {
        "colab": {
          "base_uri": "https://localhost:8080/"
        },
        "id": "KLJAU-Fi5-CB",
        "outputId": "b2cec24c-40bc-4d0e-9030-208e8a1a069e"
      },
      "outputs": [
        {
          "output_type": "execute_result",
          "data": {
            "text/plain": [
              "RandomForestClassifier(random_state=42)"
            ]
          },
          "metadata": {},
          "execution_count": 52
        }
      ],
      "source": [
        "from sklearn.ensemble import RandomForestClassifier\n",
        "rf_classifier = RandomForestClassifier(random_state=42)\n",
        "rf_classifier.fit(X_train,y_train)"
      ]
    },
    {
      "cell_type": "markdown",
      "metadata": {
        "id": "cTlPSja85-CE"
      },
      "source": [
        "### Performance of non-parameterized classifier"
      ]
    },
    {
      "cell_type": "code",
      "execution_count": null,
      "metadata": {
        "scrolled": true,
        "id": "OWZVhbEi5-CF"
      },
      "outputs": [],
      "source": [
        "y_pred = rf_classifier.predict(X_test)\n",
        "# print(np.concatenate((y_pred.reshape(len(y_pred),1),y_test.reshape(len(y_test),1)),1))"
      ]
    },
    {
      "cell_type": "code",
      "execution_count": null,
      "metadata": {
        "scrolled": false,
        "colab": {
          "base_uri": "https://localhost:8080/"
        },
        "id": "71uPsHMn5-CG",
        "outputId": "7ce79bbd-b710-4d56-80e1-b80bc278015e"
      },
      "outputs": [
        {
          "output_type": "stream",
          "name": "stdout",
          "text": [
            "Model accuracy = 85.71 %\n",
            "\n",
            "Confusion Matrix \n",
            " [[22  4]\n",
            " [ 2 14]]\n",
            "\n",
            "F1 score = 0.82\n",
            "\n",
            "Mean accuracy for 5-fold cross validation on train set = 78.32 %\n"
          ]
        }
      ],
      "source": [
        "performance_metrics(y_test,y_pred,rf_classifier)"
      ]
    },
    {
      "cell_type": "markdown",
      "metadata": {
        "id": "EWjfGqI75-CJ"
      },
      "source": [
        "### Hyper-parameters tunning\n",
        "There are a few hyper-parameters that can be tunned for any random Forest model. Some of the common ones are, the **n_estimators** or number of random decision trees that are used to create the random forest, **criterion** based on which the split is done, the **max_features** that is considered before making the best split, and the **min_samples_split** which dictates if an internal node having certain number of nodes will split."
      ]
    },
    {
      "cell_type": "code",
      "execution_count": null,
      "metadata": {
        "colab": {
          "base_uri": "https://localhost:8080/"
        },
        "id": "d7NTWs5E5-CJ",
        "outputId": "59f67492-0433-4831-d7ec-641fb6c02440"
      },
      "outputs": [
        {
          "output_type": "stream",
          "name": "stdout",
          "text": [
            "Best Accuracy: 87.31 %\n",
            "Best Parameters: {'criterion': 'entropy', 'max_features': 'sqrt', 'min_samples_split': 5, 'n_estimators': 25}\n"
          ]
        }
      ],
      "source": [
        "parameters = [{\"n_estimators\":[10,25,50],'criterion':['gini', 'entropy'],\\\n",
        "               'max_features':['sqrt','log2',0.1, 0.2], 'min_samples_split':[5,7,9]}]\n",
        "best_parameter = grid_search_function(rf_classifier,parameters)"
      ]
    },
    {
      "cell_type": "code",
      "execution_count": null,
      "metadata": {
        "colab": {
          "base_uri": "https://localhost:8080/"
        },
        "id": "hOb6eMy45-CK",
        "outputId": "5051fffb-0f12-416d-ed1d-e60e8c2e417f"
      },
      "outputs": [
        {
          "output_type": "stream",
          "name": "stdout",
          "text": [
            "Model accuracy = 88.10 %\n",
            "\n",
            "Confusion Matrix \n",
            " [[22  4]\n",
            " [ 1 15]]\n",
            "\n",
            "F1 score = 0.86\n",
            "\n",
            "Mean accuracy for 5-fold cross validation on train set = 87.31 %\n"
          ]
        }
      ],
      "source": [
        "rf_best_classifier = RandomForestClassifier(n_estimators=best_parameter['n_estimators'],criterion=best_parameter['criterion'],\\\n",
        "                                            max_features=best_parameter['max_features'],min_samples_split=best_parameter['min_samples_split'],random_state=42)\n",
        "rf_best_classifier.fit(X_train,y_train)\n",
        "y_pred = rf_best_classifier.predict(X_test)\n",
        "performance_metrics(y_test,y_pred,rf_best_classifier)"
      ]
    }
  ],
  "metadata": {
    "kernelspec": {
      "display_name": "Python 3",
      "language": "python",
      "name": "python3"
    },
    "language_info": {
      "codemirror_mode": {
        "name": "ipython",
        "version": 3
      },
      "file_extension": ".py",
      "mimetype": "text/x-python",
      "name": "python",
      "nbconvert_exporter": "python",
      "pygments_lexer": "ipython3",
      "version": "3.7.7"
    },
    "colab": {
      "name": "Model Building and Optimization.ipynb",
      "provenance": [],
      "collapsed_sections": []
    }
  },
  "nbformat": 4,
  "nbformat_minor": 0
}
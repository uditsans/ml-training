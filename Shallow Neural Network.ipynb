{
  "cells": [
    {
      "cell_type": "markdown",
      "source": [
        "# Buliding two-layer Neural Network from scratch\n",
        "- Neural Network without using any Deep Learning Library\n",
        "- Dataset: [MNIST Database of Handwritten Digits](http://yann.lecun.com/exdb/mnist/)"
      ],
      "metadata": {
        "id": "w8-uSABeHvOi"
      }
    },
    {
      "cell_type": "markdown",
      "metadata": {
        "id": "-ZWhyBkoBbUU"
      },
      "source": [
        "## Importing Libraries"
      ]
    },
    {
      "cell_type": "code",
      "execution_count": null,
      "metadata": {
        "id": "jpSiWG62BbUY"
      },
      "outputs": [],
      "source": [
        "import random\n",
        "import numpy as np\n",
        "import pandas as pd\n",
        "import time"
      ]
    },
    {
      "cell_type": "markdown",
      "metadata": {
        "id": "AJ3GKmY5BbUc"
      },
      "source": [
        "## Importing Datasets\n",
        "For importing 'idx' file type [this link](https://stackoverflow.com/a/55504575) was referred."
      ]
    },
    {
      "cell_type": "code",
      "source": [
        "%%bash\n",
        "mkdir Data\n",
        "cd Data\n",
        "wget -q http://yann.lecun.com/exdb/mnist/train-images-idx3-ubyte.gz \n",
        "wget -q http://yann.lecun.com/exdb/mnist/train-labels-idx1-ubyte.gz \n",
        "wget -q http://yann.lecun.com/exdb/mnist/t10k-images-idx3-ubyte.gz \n",
        "wget -q http://yann.lecun.com/exdb/mnist/t10k-labels-idx1-ubyte.gz "
      ],
      "metadata": {
        "id": "dOv4A1C6CWuK"
      },
      "execution_count": null,
      "outputs": []
    },
    {
      "cell_type": "code",
      "source": [
        "%%bash\n",
        "cd Data\n",
        "gzip -d train-images-idx3-ubyte.gz \n",
        "gzip -d train-labels-idx1-ubyte.gz \n",
        "gzip -d t10k-images-idx3-ubyte.gz \n",
        "gzip -d t10k-labels-idx1-ubyte.gz "
      ],
      "metadata": {
        "id": "jtnttO7yDA0x"
      },
      "execution_count": null,
      "outputs": []
    },
    {
      "cell_type": "code",
      "execution_count": null,
      "metadata": {
        "scrolled": false,
        "colab": {
          "base_uri": "https://localhost:8080/"
        },
        "id": "fgyjM-GLBbUd",
        "outputId": "ad346862-2996-4f24-f01c-86647e5a3514"
      },
      "outputs": [
        {
          "output_type": "stream",
          "name": "stdout",
          "text": [
            "Looking in indexes: https://pypi.org/simple, https://us-python.pkg.dev/colab-wheels/public/simple/\n",
            "Collecting idx2numpy\n",
            "  Downloading idx2numpy-1.2.3.tar.gz (6.8 kB)\n",
            "Requirement already satisfied: numpy in /usr/local/lib/python3.7/dist-packages (from idx2numpy) (1.21.6)\n",
            "Requirement already satisfied: six in /usr/local/lib/python3.7/dist-packages (from idx2numpy) (1.15.0)\n",
            "Building wheels for collected packages: idx2numpy\n",
            "  Building wheel for idx2numpy (setup.py) ... \u001b[?25l\u001b[?25hdone\n",
            "  Created wheel for idx2numpy: filename=idx2numpy-1.2.3-py3-none-any.whl size=7917 sha256=8596b2e6e4aeaeb107b80e3705168f02893cf6b4368f04be37e69da643ebd96b\n",
            "  Stored in directory: /root/.cache/pip/wheels/1a/ce/ad/d5e95a35cfe34149aade5e500f2edd535c0566d79e9a8e1d8a\n",
            "Successfully built idx2numpy\n",
            "Installing collected packages: idx2numpy\n",
            "Successfully installed idx2numpy-1.2.3\n"
          ]
        }
      ],
      "source": [
        "!pip install idx2numpy\n",
        "import idx2numpy"
      ]
    },
    {
      "cell_type": "code",
      "execution_count": null,
      "metadata": {
        "id": "aLp6XLldBbUg"
      },
      "outputs": [],
      "source": [
        "# Importing Train Image\n",
        "file = 'Data/train-images-idx3-ubyte'\n",
        "arr = idx2numpy.convert_from_file(file)\n",
        "train_images = [arr[i].reshape(784,1)/255 for i in range(60000)]\n",
        "del arr\n",
        "\n",
        "# Importing Train Label\n",
        "file = 'Data/train-labels-idx1-ubyte'\n",
        "arr = idx2numpy.convert_from_file(file)\n",
        "train_labels = np.zeros((60000,10,1))                     \n",
        "for i in range(60000):\n",
        "    train_labels[i,arr[i],0] = 1\n",
        "del arr\n",
        "\n",
        "# Zipping the Training data\n",
        "train_data = list(zip(train_images,train_labels))\n",
        "del train_images, train_labels"
      ]
    },
    {
      "cell_type": "code",
      "execution_count": null,
      "metadata": {
        "id": "9OASSMkNBbUi"
      },
      "outputs": [],
      "source": [
        "# Importing Test Image\n",
        "file = 'Data/t10k-images-idx3-ubyte'\n",
        "arr = idx2numpy.convert_from_file(file)\n",
        "test_images = [arr[i].reshape(784,1)/255 for i in range(10000)]\n",
        "del arr\n",
        "\n",
        "# Importing Test Label\n",
        "file = 'Data/t10k-labels-idx1-ubyte'\n",
        "test_labels = idx2numpy.convert_from_file(file)\n",
        "\n",
        "# Zipping the Test data\n",
        "test_data = list(zip(test_images,test_labels))\n",
        "del test_images, test_labels"
      ]
    },
    {
      "cell_type": "markdown",
      "metadata": {
        "id": "Vktd05xVBbUj"
      },
      "source": [
        "## Defining the Neural Network class"
      ]
    },
    {
      "cell_type": "code",
      "execution_count": null,
      "metadata": {
        "id": "poB9hxFmBbUk"
      },
      "outputs": [],
      "source": [
        "class neural_network(object):\n",
        "    def __init__(self,layers):\n",
        "        self.num_layers = len(layers)\n",
        "        self.biases = [np.random.randn(x,1) for x in layers[1:]]\n",
        "        self.weights = [np.random.randn(x,y) for x,y in zip(layers[1:],layers[:-1])]\n",
        "    \n",
        "    \n",
        "    def fit(self,train_data,epoch,batch_size,learn_rate,test_data):\n",
        "        for e in range(epoch):\n",
        "            print(\"Training the ANN in Epoch {0} of {1}\".format(e+1,epoch))\n",
        "            random.shuffle(train_data)\n",
        "            batches = [train_data[i:i+batch_size] for i in range(0,len(train_data),batch_size)]\n",
        "            \n",
        "            for batch in batches:\n",
        "                self.stochastic_GD(batch,learn_rate)\n",
        "                \n",
        "#             print('The correct predictions by the learning-ANN after epoch {0}: {1}/10000'\\\n",
        "#                   .format(e+1,self.evaluate(test_data)))\n",
        "         \n",
        "        print(\"\\n-----THE-NEURAL-NETWORK-HAS-LEARNED-----\")\n",
        "        \n",
        "    \n",
        "    def stochastic_GD(self,batch,learn_rate):\n",
        "        sum_delta_w = [np.zeros(w.shape) for w in self.weights]\n",
        "        sum_delta_b = [np.zeros(b.shape) for b in self.biases]\n",
        "        \n",
        "        for x,y in batch:\n",
        "            delta_w , delta_b = self.back_propogation(x,y)\n",
        "            \n",
        "            sum_delta_w = [sd_w+d_w for sd_w, d_w in zip(sum_delta_w,delta_w)]\n",
        "            sum_delta_b = [sd_b+d_b for sd_b, d_b in zip(sum_delta_b,delta_b)]\n",
        "            \n",
        "        self.weights = [w-(learn_rate/len(batch))*sd_w for sd_w, w in zip(sum_delta_w, self.weights)]\n",
        "        self.biases = [b-(learn_rate/len(batch))*sd_b for sd_b, b in zip(sum_delta_b, self.biases)]     \n",
        "    \n",
        "    \n",
        "    def back_propogation(self,x,y):\n",
        "        # Forward Propogation\n",
        "        a = x\n",
        "        node_sums = []\n",
        "        activations = [a]\n",
        "        \n",
        "        for w, b in zip(self.weights, self.biases):\n",
        "            z = (np.dot(w,a) + b)\n",
        "            a = sigmoid(z)\n",
        "            \n",
        "            node_sums.append(z)\n",
        "            activations.append(a)\n",
        "            \n",
        "        # Backward Propogation\n",
        "        delta_w = [np.zeros(w.shape) for w in self.weights]\n",
        "        delta_b = [np.zeros(b.shape) for b in self.biases]\n",
        "        \n",
        "        sig_prime = sigmoid_prime(node_sums[-1])\n",
        "        delta = self.output_loss(activations[-1],y)*sig_prime\n",
        "    \n",
        "        delta_b[-1] = delta\n",
        "        delta_w[-1] = np.dot(delta,activations[-2].transpose())\n",
        "        \n",
        "        for l in range(2, self.num_layers):\n",
        "            z = node_sums[-l]\n",
        "            sig_prime = sigmoid_prime(z)\n",
        "            delta = np.dot(self.weights[-l+1].transpose(),delta) * sig_prime\n",
        "            \n",
        "            delta_b[-l] = delta\n",
        "            delta_w[-l] = np.dot(delta,activations[-l-1].transpose())\n",
        "            \n",
        "        return (delta_w, delta_b)\n",
        "    \n",
        "    \n",
        "    def output_loss(self, predicted, y):\n",
        "        return(predicted - y)\n",
        "\n",
        "    \n",
        "    def forward_propogation(self, a):\n",
        "        for w, b in zip(self.weights, self.biases):\n",
        "            a = sigmoid(np.dot(w,a)+b)\n",
        "        return a\n",
        "\n",
        "    \n",
        "    def evaluate(self, test_data):\n",
        "        test_results = [(np.argmax(self.forward_propogation(x)), y) for (x, y) in test_data]\n",
        "        return sum(int(x==y) for (x, y) in test_results)        \n",
        "    \n",
        "    \n",
        "    def predict(self,test_sample):\n",
        "        predicted = np.argmax(self.forward_propogation(test_sample))\n",
        "        return predicted\n",
        "    \n",
        "    \n",
        "# Auxiliary Functions    \n",
        "def sigmoid(z):\n",
        "    return (1/(1+np.exp(-1*z)))\n",
        "    \n",
        "def sigmoid_prime(z):\n",
        "    return (np.exp(-1*z)/((1+np.exp(-1*z))**2))"
      ]
    },
    {
      "cell_type": "markdown",
      "metadata": {
        "id": "d3H9rzfCBbUn"
      },
      "source": [
        "## Executing the Neural Network"
      ]
    },
    {
      "cell_type": "markdown",
      "metadata": {
        "id": "RILNOpTuBbUp"
      },
      "source": [
        "### Building the Neural Network "
      ]
    },
    {
      "cell_type": "code",
      "execution_count": null,
      "metadata": {
        "colab": {
          "base_uri": "https://localhost:8080/"
        },
        "id": "X4CYMKO4BbUq",
        "outputId": "d1885710-99d8-4f13-a3f6-c93294587433"
      },
      "outputs": [
        {
          "output_type": "stream",
          "name": "stdout",
          "text": [
            "\n",
            "The initialized ANN predicted 9.29% of the test dataset correctly.\n"
          ]
        }
      ],
      "source": [
        "ANN = neural_network([784,28,10])\n",
        "print('\\nThe initialized ANN predicted {0}% of the test dataset correctly.'.format(ANN.evaluate(test_data)/100))"
      ]
    },
    {
      "cell_type": "markdown",
      "metadata": {
        "id": "DhSIC4MWBbUr"
      },
      "source": [
        "### Training the Neural Network "
      ]
    },
    {
      "cell_type": "code",
      "execution_count": null,
      "metadata": {
        "scrolled": true,
        "colab": {
          "base_uri": "https://localhost:8080/"
        },
        "id": "zG7FioWgBbUt",
        "outputId": "6ed99d18-9fc5-49ba-8fed-c28c5b096fef"
      },
      "outputs": [
        {
          "output_type": "stream",
          "name": "stdout",
          "text": [
            "Training the ANN in Epoch 1 of 10\n",
            "Training the ANN in Epoch 2 of 10\n",
            "Training the ANN in Epoch 3 of 10\n",
            "Training the ANN in Epoch 4 of 10\n",
            "Training the ANN in Epoch 5 of 10\n",
            "Training the ANN in Epoch 6 of 10\n",
            "Training the ANN in Epoch 7 of 10\n",
            "Training the ANN in Epoch 8 of 10\n",
            "Training the ANN in Epoch 9 of 10\n",
            "Training the ANN in Epoch 10 of 10\n",
            "\n",
            "-----THE-NEURAL-NETWORK-HAS-LEARNED-----\n",
            "\n",
            "\tTrain Time = 118.078s\n"
          ]
        }
      ],
      "source": [
        "seconds = time.time()\n",
        "ANN.fit(train_data=train_data,batch_size=6,epoch=10,learn_rate=2, test_data = test_data)\n",
        "print(\"\\n\\tTrain Time = {0}s\".format(round((time.time()-seconds),3)))"
      ]
    },
    {
      "cell_type": "markdown",
      "metadata": {
        "id": "FvGg6WsfBbUt"
      },
      "source": [
        "### Testing the accuracy of Neural Network"
      ]
    },
    {
      "cell_type": "code",
      "execution_count": null,
      "metadata": {
        "scrolled": false,
        "colab": {
          "base_uri": "https://localhost:8080/"
        },
        "id": "5aC9l9RmBbUu",
        "outputId": "946dc577-45ba-4ad9-eba1-60f9ea56445b"
      },
      "outputs": [
        {
          "output_type": "stream",
          "name": "stdout",
          "text": [
            "\n",
            "The learned ANN predicted 94.6% of the test dataset correctly.\n"
          ]
        }
      ],
      "source": [
        "print('\\nThe learned ANN predicted {0}% of the test dataset correctly.'.format(ANN.evaluate(test_data)/100))"
      ]
    },
    {
      "cell_type": "markdown",
      "metadata": {
        "id": "1fHIHJOvBbUv"
      },
      "source": [
        "### Individual Prediction "
      ]
    },
    {
      "cell_type": "code",
      "execution_count": null,
      "metadata": {
        "id": "u-RpdNTzBbUv"
      },
      "outputs": [],
      "source": [
        "sample, sample_label = test_data[random.randint(0,10000)]"
      ]
    },
    {
      "cell_type": "code",
      "source": [
        "from matplotlib import pyplot as plt\n",
        "plt.imshow(sample.reshape(28,28), cmap=plt.get_cmap('gray'))\n",
        "plt.show()\n",
        "print(\"ANN predicts:\",ANN.predict(sample),\"\\t Actual:\",sample_label)"
      ],
      "metadata": {
        "colab": {
          "base_uri": "https://localhost:8080/",
          "height": 282
        },
        "id": "lr639L1cGl84",
        "outputId": "1f8c8de5-6af6-4393-e499-5f5fe2888663"
      },
      "execution_count": null,
      "outputs": [
        {
          "output_type": "display_data",
          "data": {
            "text/plain": [
              "<Figure size 432x288 with 1 Axes>"
            ],
            "image/png": "[encoded data removed]"
          },
          "metadata": {
            "needs_background": "light"
          }
        },
        {
          "output_type": "stream",
          "name": "stdout",
          "text": [
            "ANN predicts: 4 \t Actual: 4\n"
          ]
        }
      ]
    },
    {
      "cell_type": "markdown",
      "source": [
        "---"
      ],
      "metadata": {
        "id": "V7drwda4JdXv"
      }
    }
  ],
  "metadata": {
    "kernelspec": {
      "display_name": "Python 3",
      "language": "python",
      "name": "python3"
    },
    "language_info": {
      "codemirror_mode": {
        "name": "ipython",
        "version": 3
      },
      "file_extension": ".py",
      "mimetype": "text/x-python",
      "name": "python",
      "nbconvert_exporter": "python",
      "pygments_lexer": "ipython3",
      "version": "3.7.7"
    },
    "colab": {
      "name": "Shallow ANN.ipynb",
      "provenance": [],
      "collapsed_sections": []
    }
  },
  "nbformat": 4,
  "nbformat_minor": 0
}